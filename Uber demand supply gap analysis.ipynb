{
 "cells": [
  {
   "cell_type": "markdown",
   "id": "26506b17",
   "metadata": {},
   "source": [
    "### Uber demand supply Analysis 2024 practice\n"
   ]
  },
  {
   "cell_type": "code",
   "execution_count": null,
   "id": "31fed915",
   "metadata": {},
   "outputs": [],
   "source": []
  },
  {
   "cell_type": "markdown",
   "id": "b1b2e38f",
   "metadata": {},
   "source": [
    "- Importing Libraries "
   ]
  },
  {
   "cell_type": "code",
   "execution_count": 233,
   "id": "3d398846",
   "metadata": {},
   "outputs": [],
   "source": [
    "import numpy as np \n",
    "import pandas as pd \n",
    "import matplotlib.pyplot as plt \n",
    "import seaborn as sns\n",
    "import warnings \n",
    "warnings.filterwarnings(\"ignore\")\n",
    "from datetime import datetime\n",
    "now = datetime.now()"
   ]
  },
  {
   "cell_type": "markdown",
   "id": "2cc83c6d",
   "metadata": {},
   "source": [
    "#### Task 1 :- Identify the data quality issues and clean the data so that you can use it for analysis."
   ]
  },
  {
   "cell_type": "code",
   "execution_count": 176,
   "id": "f60ec54b",
   "metadata": {},
   "outputs": [
    {
     "data": {
      "text/html": [
       "<div>\n",
       "<style scoped>\n",
       "    .dataframe tbody tr th:only-of-type {\n",
       "        vertical-align: middle;\n",
       "    }\n",
       "\n",
       "    .dataframe tbody tr th {\n",
       "        vertical-align: top;\n",
       "    }\n",
       "\n",
       "    .dataframe thead th {\n",
       "        text-align: right;\n",
       "    }\n",
       "</style>\n",
       "<table border=\"1\" class=\"dataframe\">\n",
       "  <thead>\n",
       "    <tr style=\"text-align: right;\">\n",
       "      <th></th>\n",
       "      <th>Request id</th>\n",
       "      <th>Pickup point</th>\n",
       "      <th>Driver id</th>\n",
       "      <th>Status</th>\n",
       "      <th>Request timestamp</th>\n",
       "      <th>Drop timestamp</th>\n",
       "    </tr>\n",
       "  </thead>\n",
       "  <tbody>\n",
       "    <tr>\n",
       "      <th>0</th>\n",
       "      <td>619</td>\n",
       "      <td>Airport</td>\n",
       "      <td>1.0</td>\n",
       "      <td>Trip Completed</td>\n",
       "      <td>11/7/2016 11:51</td>\n",
       "      <td>11/7/2016 13:00</td>\n",
       "    </tr>\n",
       "    <tr>\n",
       "      <th>1</th>\n",
       "      <td>867</td>\n",
       "      <td>Airport</td>\n",
       "      <td>1.0</td>\n",
       "      <td>Trip Completed</td>\n",
       "      <td>11/7/2016 17:57</td>\n",
       "      <td>11/7/2016 18:47</td>\n",
       "    </tr>\n",
       "    <tr>\n",
       "      <th>2</th>\n",
       "      <td>1807</td>\n",
       "      <td>City</td>\n",
       "      <td>1.0</td>\n",
       "      <td>Trip Completed</td>\n",
       "      <td>12/7/2016 9:17</td>\n",
       "      <td>12/7/2016 9:58</td>\n",
       "    </tr>\n",
       "    <tr>\n",
       "      <th>3</th>\n",
       "      <td>2532</td>\n",
       "      <td>Airport</td>\n",
       "      <td>1.0</td>\n",
       "      <td>Trip Completed</td>\n",
       "      <td>12/7/2016 21:08</td>\n",
       "      <td>12/7/2016 22:03</td>\n",
       "    </tr>\n",
       "    <tr>\n",
       "      <th>4</th>\n",
       "      <td>3112</td>\n",
       "      <td>City</td>\n",
       "      <td>1.0</td>\n",
       "      <td>Trip Completed</td>\n",
       "      <td>13-07-2016 08:33:16</td>\n",
       "      <td>13-07-2016 09:25:47</td>\n",
       "    </tr>\n",
       "    <tr>\n",
       "      <th>5</th>\n",
       "      <td>3879</td>\n",
       "      <td>Airport</td>\n",
       "      <td>1.0</td>\n",
       "      <td>Trip Completed</td>\n",
       "      <td>13-07-2016 21:57:28</td>\n",
       "      <td>13-07-2016 22:28:59</td>\n",
       "    </tr>\n",
       "    <tr>\n",
       "      <th>6</th>\n",
       "      <td>4270</td>\n",
       "      <td>Airport</td>\n",
       "      <td>1.0</td>\n",
       "      <td>Trip Completed</td>\n",
       "      <td>14-07-2016 06:15:32</td>\n",
       "      <td>14-07-2016 07:13:15</td>\n",
       "    </tr>\n",
       "    <tr>\n",
       "      <th>7</th>\n",
       "      <td>5510</td>\n",
       "      <td>Airport</td>\n",
       "      <td>1.0</td>\n",
       "      <td>Trip Completed</td>\n",
       "      <td>15-07-2016 05:11:52</td>\n",
       "      <td>15-07-2016 06:07:52</td>\n",
       "    </tr>\n",
       "    <tr>\n",
       "      <th>8</th>\n",
       "      <td>6248</td>\n",
       "      <td>City</td>\n",
       "      <td>1.0</td>\n",
       "      <td>Trip Completed</td>\n",
       "      <td>15-07-2016 17:57:27</td>\n",
       "      <td>15-07-2016 18:50:51</td>\n",
       "    </tr>\n",
       "    <tr>\n",
       "      <th>9</th>\n",
       "      <td>267</td>\n",
       "      <td>City</td>\n",
       "      <td>2.0</td>\n",
       "      <td>Trip Completed</td>\n",
       "      <td>11/7/2016 6:46</td>\n",
       "      <td>11/7/2016 7:25</td>\n",
       "    </tr>\n",
       "  </tbody>\n",
       "</table>\n",
       "</div>"
      ],
      "text/plain": [
       "   Request id Pickup point  Driver id          Status    Request timestamp  \\\n",
       "0         619      Airport        1.0  Trip Completed      11/7/2016 11:51   \n",
       "1         867      Airport        1.0  Trip Completed      11/7/2016 17:57   \n",
       "2        1807         City        1.0  Trip Completed       12/7/2016 9:17   \n",
       "3        2532      Airport        1.0  Trip Completed      12/7/2016 21:08   \n",
       "4        3112         City        1.0  Trip Completed  13-07-2016 08:33:16   \n",
       "5        3879      Airport        1.0  Trip Completed  13-07-2016 21:57:28   \n",
       "6        4270      Airport        1.0  Trip Completed  14-07-2016 06:15:32   \n",
       "7        5510      Airport        1.0  Trip Completed  15-07-2016 05:11:52   \n",
       "8        6248         City        1.0  Trip Completed  15-07-2016 17:57:27   \n",
       "9         267         City        2.0  Trip Completed       11/7/2016 6:46   \n",
       "\n",
       "        Drop timestamp  \n",
       "0      11/7/2016 13:00  \n",
       "1      11/7/2016 18:47  \n",
       "2       12/7/2016 9:58  \n",
       "3      12/7/2016 22:03  \n",
       "4  13-07-2016 09:25:47  \n",
       "5  13-07-2016 22:28:59  \n",
       "6  14-07-2016 07:13:15  \n",
       "7  15-07-2016 06:07:52  \n",
       "8  15-07-2016 18:50:51  \n",
       "9       11/7/2016 7:25  "
      ]
     },
     "execution_count": 176,
     "metadata": {},
     "output_type": "execute_result"
    }
   ],
   "source": [
    "#Loading Dataset , dataset is in csv format.\n",
    "uber = pd.read_csv('Uber Request Data.csv') \n",
    "uber.head(10)"
   ]
  },
  {
   "cell_type": "code",
   "execution_count": 177,
   "id": "af008bb8",
   "metadata": {},
   "outputs": [
    {
     "name": "stdout",
     "output_type": "stream",
     "text": [
      "<class 'pandas.core.frame.DataFrame'>\n",
      "RangeIndex: 6745 entries, 0 to 6744\n",
      "Data columns (total 6 columns):\n",
      " #   Column             Non-Null Count  Dtype  \n",
      "---  ------             --------------  -----  \n",
      " 0   Request id         6745 non-null   int64  \n",
      " 1   Pickup point       6745 non-null   object \n",
      " 2   Driver id          4095 non-null   float64\n",
      " 3   Status             6745 non-null   object \n",
      " 4   Request timestamp  6745 non-null   object \n",
      " 5   Drop timestamp     2831 non-null   object \n",
      "dtypes: float64(1), int64(1), object(4)\n",
      "memory usage: 316.3+ KB\n"
     ]
    }
   ],
   "source": [
    "uber.info()"
   ]
  },
  {
   "cell_type": "code",
   "execution_count": 178,
   "id": "8dcc69b8",
   "metadata": {},
   "outputs": [
    {
     "data": {
      "text/plain": [
       "Request id              0\n",
       "Pickup point            0\n",
       "Driver id            2650\n",
       "Status                  0\n",
       "Request timestamp       0\n",
       "Drop timestamp       3914\n",
       "dtype: int64"
      ]
     },
     "execution_count": 178,
     "metadata": {},
     "output_type": "execute_result"
    }
   ],
   "source": [
    "uber.isnull().sum()"
   ]
  },
  {
   "cell_type": "code",
   "execution_count": 179,
   "id": "51ca4e95",
   "metadata": {},
   "outputs": [
    {
     "data": {
      "text/plain": [
       "Driver id\n",
       "False    4095\n",
       "True     2650\n",
       "Name: count, dtype: int64"
      ]
     },
     "execution_count": 179,
     "metadata": {},
     "output_type": "execute_result"
    }
   ],
   "source": [
    "uber['Driver id'].isnull().value_counts()"
   ]
  },
  {
   "cell_type": "code",
   "execution_count": 180,
   "id": "dab8a13b",
   "metadata": {},
   "outputs": [
    {
     "data": {
      "text/plain": [
       "Drop timestamp\n",
       "True     3914\n",
       "False    2831\n",
       "Name: count, dtype: int64"
      ]
     },
     "execution_count": 180,
     "metadata": {},
     "output_type": "execute_result"
    }
   ],
   "source": [
    "uber['Drop timestamp'].isnull().value_counts()"
   ]
  },
  {
   "cell_type": "code",
   "execution_count": 181,
   "id": "326d68fd",
   "metadata": {},
   "outputs": [
    {
     "data": {
      "text/html": [
       "<div>\n",
       "<style scoped>\n",
       "    .dataframe tbody tr th:only-of-type {\n",
       "        vertical-align: middle;\n",
       "    }\n",
       "\n",
       "    .dataframe tbody tr th {\n",
       "        vertical-align: top;\n",
       "    }\n",
       "\n",
       "    .dataframe thead th {\n",
       "        text-align: right;\n",
       "    }\n",
       "</style>\n",
       "<table border=\"1\" class=\"dataframe\">\n",
       "  <thead>\n",
       "    <tr style=\"text-align: right;\">\n",
       "      <th></th>\n",
       "      <th>Pickup point</th>\n",
       "      <th>Status</th>\n",
       "      <th>Request timestamp</th>\n",
       "      <th>Drop timestamp</th>\n",
       "    </tr>\n",
       "  </thead>\n",
       "  <tbody>\n",
       "    <tr>\n",
       "      <th>0</th>\n",
       "      <td>Airport</td>\n",
       "      <td>Trip Completed</td>\n",
       "      <td>11/7/2016 11:51</td>\n",
       "      <td>11/7/2016 13:00</td>\n",
       "    </tr>\n",
       "    <tr>\n",
       "      <th>1</th>\n",
       "      <td>Airport</td>\n",
       "      <td>Trip Completed</td>\n",
       "      <td>11/7/2016 17:57</td>\n",
       "      <td>11/7/2016 18:47</td>\n",
       "    </tr>\n",
       "    <tr>\n",
       "      <th>2</th>\n",
       "      <td>City</td>\n",
       "      <td>Trip Completed</td>\n",
       "      <td>12/7/2016 9:17</td>\n",
       "      <td>12/7/2016 9:58</td>\n",
       "    </tr>\n",
       "    <tr>\n",
       "      <th>3</th>\n",
       "      <td>Airport</td>\n",
       "      <td>Trip Completed</td>\n",
       "      <td>12/7/2016 21:08</td>\n",
       "      <td>12/7/2016 22:03</td>\n",
       "    </tr>\n",
       "    <tr>\n",
       "      <th>4</th>\n",
       "      <td>City</td>\n",
       "      <td>Trip Completed</td>\n",
       "      <td>13-07-2016 08:33:16</td>\n",
       "      <td>13-07-2016 09:25:47</td>\n",
       "    </tr>\n",
       "  </tbody>\n",
       "</table>\n",
       "</div>"
      ],
      "text/plain": [
       "  Pickup point          Status    Request timestamp       Drop timestamp\n",
       "0      Airport  Trip Completed      11/7/2016 11:51      11/7/2016 13:00\n",
       "1      Airport  Trip Completed      11/7/2016 17:57      11/7/2016 18:47\n",
       "2         City  Trip Completed       12/7/2016 9:17       12/7/2016 9:58\n",
       "3      Airport  Trip Completed      12/7/2016 21:08      12/7/2016 22:03\n",
       "4         City  Trip Completed  13-07-2016 08:33:16  13-07-2016 09:25:47"
      ]
     },
     "execution_count": 181,
     "metadata": {},
     "output_type": "execute_result"
    }
   ],
   "source": [
    "uber=uber.drop(['Driver id'], axis=1)\n",
    "uber=uber.drop(['Request id'], axis=1)\n",
    "uber.head()"
   ]
  },
  {
   "cell_type": "markdown",
   "id": "1018f533",
   "metadata": {},
   "source": [
    " - as we can see that Request timestamp which is related to timeseries data and having diffrent format , so we need to make it in dd mm yyyy format ."
   ]
  },
  {
   "cell_type": "code",
   "execution_count": 182,
   "id": "73ce28e9",
   "metadata": {},
   "outputs": [
    {
     "data": {
      "text/html": [
       "<div>\n",
       "<style scoped>\n",
       "    .dataframe tbody tr th:only-of-type {\n",
       "        vertical-align: middle;\n",
       "    }\n",
       "\n",
       "    .dataframe tbody tr th {\n",
       "        vertical-align: top;\n",
       "    }\n",
       "\n",
       "    .dataframe thead th {\n",
       "        text-align: right;\n",
       "    }\n",
       "</style>\n",
       "<table border=\"1\" class=\"dataframe\">\n",
       "  <thead>\n",
       "    <tr style=\"text-align: right;\">\n",
       "      <th></th>\n",
       "      <th>Pickup point</th>\n",
       "      <th>Status</th>\n",
       "      <th>Request timestamp</th>\n",
       "      <th>Drop timestamp</th>\n",
       "    </tr>\n",
       "  </thead>\n",
       "  <tbody>\n",
       "    <tr>\n",
       "      <th>0</th>\n",
       "      <td>Airport</td>\n",
       "      <td>Trip Completed</td>\n",
       "      <td>2016-07-11 11:51:00</td>\n",
       "      <td>2016-07-11 13:00:00</td>\n",
       "    </tr>\n",
       "    <tr>\n",
       "      <th>1</th>\n",
       "      <td>Airport</td>\n",
       "      <td>Trip Completed</td>\n",
       "      <td>2016-07-11 17:57:00</td>\n",
       "      <td>2016-07-11 18:47:00</td>\n",
       "    </tr>\n",
       "    <tr>\n",
       "      <th>2</th>\n",
       "      <td>City</td>\n",
       "      <td>Trip Completed</td>\n",
       "      <td>2016-07-12 09:17:00</td>\n",
       "      <td>2016-07-12 09:58:00</td>\n",
       "    </tr>\n",
       "    <tr>\n",
       "      <th>3</th>\n",
       "      <td>Airport</td>\n",
       "      <td>Trip Completed</td>\n",
       "      <td>2016-07-12 21:08:00</td>\n",
       "      <td>2016-07-12 22:03:00</td>\n",
       "    </tr>\n",
       "    <tr>\n",
       "      <th>4</th>\n",
       "      <td>City</td>\n",
       "      <td>Trip Completed</td>\n",
       "      <td>2016-07-13 08:33:16</td>\n",
       "      <td>2016-07-13 09:25:47</td>\n",
       "    </tr>\n",
       "  </tbody>\n",
       "</table>\n",
       "</div>"
      ],
      "text/plain": [
       "  Pickup point          Status   Request timestamp      Drop timestamp\n",
       "0      Airport  Trip Completed 2016-07-11 11:51:00 2016-07-11 13:00:00\n",
       "1      Airport  Trip Completed 2016-07-11 17:57:00 2016-07-11 18:47:00\n",
       "2         City  Trip Completed 2016-07-12 09:17:00 2016-07-12 09:58:00\n",
       "3      Airport  Trip Completed 2016-07-12 21:08:00 2016-07-12 22:03:00\n",
       "4         City  Trip Completed 2016-07-13 08:33:16 2016-07-13 09:25:47"
      ]
     },
     "execution_count": 182,
     "metadata": {},
     "output_type": "execute_result"
    }
   ],
   "source": [
    "uber['Request timestamp'] = pd.to_datetime(uber['Request timestamp'], dayfirst = True,format='mixed')\n",
    "uber['Drop timestamp'] = pd.to_datetime(uber['Drop timestamp'], dayfirst = True,format='mixed')\n",
    "# as per the updated pd.to_datetime() previously we didn't need to apply any sort of hyperparameters , \n",
    "#but now we required dayfirst = True,format='mixed'\n",
    "uber.head()"
   ]
  },
  {
   "cell_type": "code",
   "execution_count": 183,
   "id": "63823e54",
   "metadata": {},
   "outputs": [
    {
     "data": {
      "text/html": [
       "<div>\n",
       "<style scoped>\n",
       "    .dataframe tbody tr th:only-of-type {\n",
       "        vertical-align: middle;\n",
       "    }\n",
       "\n",
       "    .dataframe tbody tr th {\n",
       "        vertical-align: top;\n",
       "    }\n",
       "\n",
       "    .dataframe thead th {\n",
       "        text-align: right;\n",
       "    }\n",
       "</style>\n",
       "<table border=\"1\" class=\"dataframe\">\n",
       "  <thead>\n",
       "    <tr style=\"text-align: right;\">\n",
       "      <th></th>\n",
       "      <th>Pickup point</th>\n",
       "      <th>Status</th>\n",
       "      <th>Request timestamp</th>\n",
       "      <th>Drop timestamp</th>\n",
       "    </tr>\n",
       "  </thead>\n",
       "  <tbody>\n",
       "    <tr>\n",
       "      <th>0</th>\n",
       "      <td>Airport</td>\n",
       "      <td>Trip Completed</td>\n",
       "      <td>2016-07-11 11:51:00</td>\n",
       "      <td>2016-07-11 13:00:00</td>\n",
       "    </tr>\n",
       "    <tr>\n",
       "      <th>1</th>\n",
       "      <td>Airport</td>\n",
       "      <td>Trip Completed</td>\n",
       "      <td>2016-07-11 17:57:00</td>\n",
       "      <td>2016-07-11 18:47:00</td>\n",
       "    </tr>\n",
       "    <tr>\n",
       "      <th>2</th>\n",
       "      <td>City</td>\n",
       "      <td>Trip Completed</td>\n",
       "      <td>2016-07-12 09:17:00</td>\n",
       "      <td>2016-07-12 09:58:00</td>\n",
       "    </tr>\n",
       "    <tr>\n",
       "      <th>3</th>\n",
       "      <td>Airport</td>\n",
       "      <td>Trip Completed</td>\n",
       "      <td>2016-07-12 21:08:00</td>\n",
       "      <td>2016-07-12 22:03:00</td>\n",
       "    </tr>\n",
       "    <tr>\n",
       "      <th>4</th>\n",
       "      <td>City</td>\n",
       "      <td>Trip Completed</td>\n",
       "      <td>2016-07-13 08:33:16</td>\n",
       "      <td>2016-07-13 09:25:47</td>\n",
       "    </tr>\n",
       "  </tbody>\n",
       "</table>\n",
       "</div>"
      ],
      "text/plain": [
       "  Pickup point          Status   Request timestamp      Drop timestamp\n",
       "0      Airport  Trip Completed 2016-07-11 11:51:00 2016-07-11 13:00:00\n",
       "1      Airport  Trip Completed 2016-07-11 17:57:00 2016-07-11 18:47:00\n",
       "2         City  Trip Completed 2016-07-12 09:17:00 2016-07-12 09:58:00\n",
       "3      Airport  Trip Completed 2016-07-12 21:08:00 2016-07-12 22:03:00\n",
       "4         City  Trip Completed 2016-07-13 08:33:16 2016-07-13 09:25:47"
      ]
     },
     "execution_count": 183,
     "metadata": {},
     "output_type": "execute_result"
    }
   ],
   "source": [
    "uber.head()"
   ]
  },
  {
   "cell_type": "markdown",
   "id": "67f75707",
   "metadata": {},
   "source": [
    "#### Task 1.2 Checking for Status col unique values with their particular sum"
   ]
  },
  {
   "cell_type": "code",
   "execution_count": 184,
   "id": "62686dd3",
   "metadata": {},
   "outputs": [
    {
     "data": {
      "text/plain": [
       "array(['Trip Completed', 'Cancelled', 'No Cars Available'], dtype=object)"
      ]
     },
     "execution_count": 184,
     "metadata": {},
     "output_type": "execute_result"
    }
   ],
   "source": [
    "uber['Status'].unique()"
   ]
  },
  {
   "cell_type": "code",
   "execution_count": 185,
   "id": "cb9f535c",
   "metadata": {},
   "outputs": [
    {
     "name": "stdout",
     "output_type": "stream",
     "text": [
      "<class 'pandas.core.frame.DataFrame'>\n",
      "Index: 3 entries, Cancelled to Trip Completed\n",
      "Data columns (total 3 columns):\n",
      " #   Column             Non-Null Count  Dtype\n",
      "---  ------             --------------  -----\n",
      " 0   Pickup point       3 non-null      int64\n",
      " 1   Request timestamp  3 non-null      int64\n",
      " 2   Drop timestamp     3 non-null      int64\n",
      "dtypes: int64(3)\n",
      "memory usage: 96.0+ bytes\n"
     ]
    }
   ],
   "source": [
    "status_summary = uber.groupby('Status').count()\n",
    "status_summary.info()"
   ]
  },
  {
   "cell_type": "code",
   "execution_count": 214,
   "id": "6eb91c23",
   "metadata": {},
   "outputs": [
    {
     "data": {
      "image/png": "[encoded data removed]",
      "text/plain": [
       "<Figure size 640x480 with 1 Axes>"
      ]
     },
     "metadata": {},
     "output_type": "display_data"
    }
   ],
   "source": [
    "status_summary.plot.bar(colormap = \"winter\")\n",
    "plt.show()"
   ]
  },
  {
   "cell_type": "code",
   "execution_count": 187,
   "id": "d30b1e2a",
   "metadata": {},
   "outputs": [
    {
     "data": {
      "text/plain": [
       "6745"
      ]
     },
     "execution_count": 187,
     "metadata": {},
     "output_type": "execute_result"
    }
   ],
   "source": [
    "uber['Status'].count()"
   ]
  },
  {
   "cell_type": "markdown",
   "id": "54939b74",
   "metadata": {},
   "source": [
    "#### Task 1/07/2024 :- plotting graphs and binning time slots into particular hours of the day"
   ]
  },
  {
   "cell_type": "markdown",
   "id": "54b20edd",
   "metadata": {},
   "source": [
    "1 2 3 4 5 6 7 8 9 10 11 12 13 14 15 16 17 18 19 20 21 22 23  \n",
    "1-6 early morning\n",
    "6-12 morning\n",
    "12-17 afternoon \n",
    "17-20 evening \n",
    "20-24 night  \n",
    "step 1 :- check rows of req_timestmp \n",
    "step 2 :- if time matches particular range of slot \n"
   ]
  },
  {
   "cell_type": "code",
   "execution_count": null,
   "id": "5fc9de1d",
   "metadata": {},
   "outputs": [],
   "source": []
  },
  {
   "cell_type": "code",
   "execution_count": 188,
   "id": "2fd2370c",
   "metadata": {},
   "outputs": [],
   "source": [
    "def hr_func(ts):\n",
    "    return ts.hour\n",
    "\n",
    "uber['req_hour'] = uber['Request timestamp'].apply(hr_func)\n"
   ]
  },
  {
   "cell_type": "code",
   "execution_count": 189,
   "id": "4b7f5af7",
   "metadata": {},
   "outputs": [
    {
     "data": {
      "text/html": [
       "<div>\n",
       "<style scoped>\n",
       "    .dataframe tbody tr th:only-of-type {\n",
       "        vertical-align: middle;\n",
       "    }\n",
       "\n",
       "    .dataframe tbody tr th {\n",
       "        vertical-align: top;\n",
       "    }\n",
       "\n",
       "    .dataframe thead th {\n",
       "        text-align: right;\n",
       "    }\n",
       "</style>\n",
       "<table border=\"1\" class=\"dataframe\">\n",
       "  <thead>\n",
       "    <tr style=\"text-align: right;\">\n",
       "      <th></th>\n",
       "      <th>Pickup point</th>\n",
       "      <th>Status</th>\n",
       "      <th>Request timestamp</th>\n",
       "      <th>Drop timestamp</th>\n",
       "      <th>req_hour</th>\n",
       "    </tr>\n",
       "  </thead>\n",
       "  <tbody>\n",
       "    <tr>\n",
       "      <th>0</th>\n",
       "      <td>Airport</td>\n",
       "      <td>Trip Completed</td>\n",
       "      <td>2016-07-11 11:51:00</td>\n",
       "      <td>2016-07-11 13:00:00</td>\n",
       "      <td>11</td>\n",
       "    </tr>\n",
       "    <tr>\n",
       "      <th>1</th>\n",
       "      <td>Airport</td>\n",
       "      <td>Trip Completed</td>\n",
       "      <td>2016-07-11 17:57:00</td>\n",
       "      <td>2016-07-11 18:47:00</td>\n",
       "      <td>17</td>\n",
       "    </tr>\n",
       "    <tr>\n",
       "      <th>2</th>\n",
       "      <td>City</td>\n",
       "      <td>Trip Completed</td>\n",
       "      <td>2016-07-12 09:17:00</td>\n",
       "      <td>2016-07-12 09:58:00</td>\n",
       "      <td>9</td>\n",
       "    </tr>\n",
       "    <tr>\n",
       "      <th>3</th>\n",
       "      <td>Airport</td>\n",
       "      <td>Trip Completed</td>\n",
       "      <td>2016-07-12 21:08:00</td>\n",
       "      <td>2016-07-12 22:03:00</td>\n",
       "      <td>21</td>\n",
       "    </tr>\n",
       "    <tr>\n",
       "      <th>4</th>\n",
       "      <td>City</td>\n",
       "      <td>Trip Completed</td>\n",
       "      <td>2016-07-13 08:33:16</td>\n",
       "      <td>2016-07-13 09:25:47</td>\n",
       "      <td>8</td>\n",
       "    </tr>\n",
       "  </tbody>\n",
       "</table>\n",
       "</div>"
      ],
      "text/plain": [
       "  Pickup point          Status   Request timestamp      Drop timestamp  \\\n",
       "0      Airport  Trip Completed 2016-07-11 11:51:00 2016-07-11 13:00:00   \n",
       "1      Airport  Trip Completed 2016-07-11 17:57:00 2016-07-11 18:47:00   \n",
       "2         City  Trip Completed 2016-07-12 09:17:00 2016-07-12 09:58:00   \n",
       "3      Airport  Trip Completed 2016-07-12 21:08:00 2016-07-12 22:03:00   \n",
       "4         City  Trip Completed 2016-07-13 08:33:16 2016-07-13 09:25:47   \n",
       "\n",
       "   req_hour  \n",
       "0        11  \n",
       "1        17  \n",
       "2         9  \n",
       "3        21  \n",
       "4         8  "
      ]
     },
     "execution_count": 189,
     "metadata": {},
     "output_type": "execute_result"
    }
   ],
   "source": [
    "uber.head()"
   ]
  },
  {
   "cell_type": "code",
   "execution_count": 190,
   "id": "b51e7a2f",
   "metadata": {},
   "outputs": [],
   "source": [
    "uber.loc[(uber['req_hour'] <= 6) & (uber['req_hour'] > 0 ),'req_timeslot']  = 'Early morning'\n",
    "uber.loc[(uber['req_hour'] <=12) & (uber['req_hour'] > 6 ),'req_timeslot']  = 'Morning'\n",
    "uber.loc[(uber['req_hour'] <=17) & (uber['req_hour'] > 12 ),'req_timeslot']  = 'Afternoon'\n",
    "uber.loc[(uber['req_hour'] <=20) & (uber['req_hour'] > 17 ),'req_timeslot']  = 'Evening'\n",
    "uber.loc[(uber['req_hour'] <=24) & (uber['req_hour'] > 20 ),'req_timeslot']  = 'Night'\n",
    "\n",
    "\n",
    "\n",
    "\n",
    "#dividing the trips into 6 sessions based on dt.hour from Request Timestamp\n",
    "\n",
    "# time_slots=['Late Night','Early Morning','Late Morning','Afternoon','Evening','Night']\n",
    "# df_uber=df_uber.assign(time_slots=pd.cut(df_uber.Request_timestamp.dt.hour,[-1,4,8,12,16,20,24],labels=time_slots))\n",
    "# df_uber.head()\n"
   ]
  },
  {
   "cell_type": "code",
   "execution_count": 191,
   "id": "49362789",
   "metadata": {},
   "outputs": [
    {
     "data": {
      "text/plain": [
       "(0       11\n",
       " 1       17\n",
       " 2        9\n",
       " 3       21\n",
       " 4        8\n",
       "         ..\n",
       " 6740    23\n",
       " 6741    23\n",
       " 6742    23\n",
       " 6743    23\n",
       " 6744    23\n",
       " Name: req_hour, Length: 6745, dtype: int64,\n",
       " 0          Morning\n",
       " 1        Afternoon\n",
       " 2          Morning\n",
       " 3            Night\n",
       " 4          Morning\n",
       " 5            Night\n",
       " 6    Early morning\n",
       " 7    Early morning\n",
       " 8        Afternoon\n",
       " 9    Early morning\n",
       " Name: req_timeslot, dtype: object)"
      ]
     },
     "execution_count": 191,
     "metadata": {},
     "output_type": "execute_result"
    }
   ],
   "source": [
    "uber['req_hour'],uber['req_timeslot'].head(10)\n"
   ]
  },
  {
   "cell_type": "code",
   "execution_count": 192,
   "id": "6a316028",
   "metadata": {},
   "outputs": [
    {
     "data": {
      "text/plain": [
       "array(['Morning', 'Afternoon', 'Night', 'Early morning', 'Evening', nan],\n",
       "      dtype=object)"
      ]
     },
     "execution_count": 192,
     "metadata": {},
     "output_type": "execute_result"
    }
   ],
   "source": [
    "uber['req_timeslot'].unique()"
   ]
  },
  {
   "cell_type": "code",
   "execution_count": 193,
   "id": "16497510",
   "metadata": {},
   "outputs": [
    {
     "data": {
      "text/plain": [
       "array([11, 17,  9, 21,  8,  6,  5, 12,  4, 14, 22, 10, 18, 15,  2, 13, 16,\n",
       "       19,  7, 20,  0,  3, 23,  1], dtype=int64)"
      ]
     },
     "execution_count": 193,
     "metadata": {},
     "output_type": "execute_result"
    }
   ],
   "source": [
    "uber['req_hour'].unique()"
   ]
  },
  {
   "cell_type": "code",
   "execution_count": 194,
   "id": "6e2b8d7e",
   "metadata": {},
   "outputs": [
    {
     "data": {
      "text/plain": [
       "0       False\n",
       "1       False\n",
       "2       False\n",
       "3       False\n",
       "4       False\n",
       "        ...  \n",
       "6740    False\n",
       "6741    False\n",
       "6742    False\n",
       "6743    False\n",
       "6744    False\n",
       "Name: req_timeslot, Length: 6745, dtype: bool"
      ]
     },
     "execution_count": 194,
     "metadata": {},
     "output_type": "execute_result"
    }
   ],
   "source": [
    "uber['req_timeslot'].isna()"
   ]
  },
  {
   "cell_type": "code",
   "execution_count": 195,
   "id": "5408486f",
   "metadata": {},
   "outputs": [
    {
     "data": {
      "text/html": [
       "<div>\n",
       "<style scoped>\n",
       "    .dataframe tbody tr th:only-of-type {\n",
       "        vertical-align: middle;\n",
       "    }\n",
       "\n",
       "    .dataframe tbody tr th {\n",
       "        vertical-align: top;\n",
       "    }\n",
       "\n",
       "    .dataframe thead th {\n",
       "        text-align: right;\n",
       "    }\n",
       "</style>\n",
       "<table border=\"1\" class=\"dataframe\">\n",
       "  <thead>\n",
       "    <tr style=\"text-align: right;\">\n",
       "      <th></th>\n",
       "      <th>Pickup point</th>\n",
       "      <th>Status</th>\n",
       "      <th>Request timestamp</th>\n",
       "      <th>Drop timestamp</th>\n",
       "      <th>req_hour</th>\n",
       "      <th>req_timeslot</th>\n",
       "    </tr>\n",
       "  </thead>\n",
       "  <tbody>\n",
       "    <tr>\n",
       "      <th>0</th>\n",
       "      <td>Airport</td>\n",
       "      <td>Trip Completed</td>\n",
       "      <td>2016-07-11 11:51:00</td>\n",
       "      <td>2016-07-11 13:00:00</td>\n",
       "      <td>11</td>\n",
       "      <td>Morning</td>\n",
       "    </tr>\n",
       "    <tr>\n",
       "      <th>1</th>\n",
       "      <td>Airport</td>\n",
       "      <td>Trip Completed</td>\n",
       "      <td>2016-07-11 17:57:00</td>\n",
       "      <td>2016-07-11 18:47:00</td>\n",
       "      <td>17</td>\n",
       "      <td>Afternoon</td>\n",
       "    </tr>\n",
       "    <tr>\n",
       "      <th>2</th>\n",
       "      <td>City</td>\n",
       "      <td>Trip Completed</td>\n",
       "      <td>2016-07-12 09:17:00</td>\n",
       "      <td>2016-07-12 09:58:00</td>\n",
       "      <td>9</td>\n",
       "      <td>Morning</td>\n",
       "    </tr>\n",
       "    <tr>\n",
       "      <th>3</th>\n",
       "      <td>Airport</td>\n",
       "      <td>Trip Completed</td>\n",
       "      <td>2016-07-12 21:08:00</td>\n",
       "      <td>2016-07-12 22:03:00</td>\n",
       "      <td>21</td>\n",
       "      <td>Night</td>\n",
       "    </tr>\n",
       "    <tr>\n",
       "      <th>4</th>\n",
       "      <td>City</td>\n",
       "      <td>Trip Completed</td>\n",
       "      <td>2016-07-13 08:33:16</td>\n",
       "      <td>2016-07-13 09:25:47</td>\n",
       "      <td>8</td>\n",
       "      <td>Morning</td>\n",
       "    </tr>\n",
       "  </tbody>\n",
       "</table>\n",
       "</div>"
      ],
      "text/plain": [
       "  Pickup point          Status   Request timestamp      Drop timestamp  \\\n",
       "0      Airport  Trip Completed 2016-07-11 11:51:00 2016-07-11 13:00:00   \n",
       "1      Airport  Trip Completed 2016-07-11 17:57:00 2016-07-11 18:47:00   \n",
       "2         City  Trip Completed 2016-07-12 09:17:00 2016-07-12 09:58:00   \n",
       "3      Airport  Trip Completed 2016-07-12 21:08:00 2016-07-12 22:03:00   \n",
       "4         City  Trip Completed 2016-07-13 08:33:16 2016-07-13 09:25:47   \n",
       "\n",
       "   req_hour req_timeslot  \n",
       "0        11      Morning  \n",
       "1        17    Afternoon  \n",
       "2         9      Morning  \n",
       "3        21        Night  \n",
       "4         8      Morning  "
      ]
     },
     "execution_count": 195,
     "metadata": {},
     "output_type": "execute_result"
    }
   ],
   "source": [
    "uber.head()"
   ]
  },
  {
   "cell_type": "code",
   "execution_count": 196,
   "id": "5e3071b5",
   "metadata": {},
   "outputs": [],
   "source": [
    "uber_bkp=uber.copy()"
   ]
  },
  {
   "cell_type": "code",
   "execution_count": 197,
   "id": "d1860068",
   "metadata": {},
   "outputs": [
    {
     "data": {
      "text/plain": [
       "0       11\n",
       "1       17\n",
       "2        9\n",
       "3       21\n",
       "4        8\n",
       "        ..\n",
       "6740    23\n",
       "6741    23\n",
       "6742    23\n",
       "6743    23\n",
       "6744    23\n",
       "Name: req_hour, Length: 6745, dtype: int64"
      ]
     },
     "execution_count": 197,
     "metadata": {},
     "output_type": "execute_result"
    }
   ],
   "source": [
    "uber['req_hour']"
   ]
  },
  {
   "cell_type": "code",
   "execution_count": 198,
   "id": "7500df73",
   "metadata": {},
   "outputs": [],
   "source": [
    "# part_of_the_day(frequency and availability of cabs from both locations)\n",
    "# day_of_the_week(check for weekday weekend rush )\n",
    "# cabs avg duration for trips completed ----- if time permits \n"
   ]
  },
  {
   "cell_type": "markdown",
   "id": "8812af38",
   "metadata": {},
   "source": [
    "- Suggestion req"
   ]
  },
  {
   "cell_type": "code",
   "execution_count": 199,
   "id": "c3fb0976",
   "metadata": {},
   "outputs": [
    {
     "data": {
      "text/html": [
       "<div>\n",
       "<style scoped>\n",
       "    .dataframe tbody tr th:only-of-type {\n",
       "        vertical-align: middle;\n",
       "    }\n",
       "\n",
       "    .dataframe tbody tr th {\n",
       "        vertical-align: top;\n",
       "    }\n",
       "\n",
       "    .dataframe thead th {\n",
       "        text-align: right;\n",
       "    }\n",
       "</style>\n",
       "<table border=\"1\" class=\"dataframe\">\n",
       "  <thead>\n",
       "    <tr style=\"text-align: right;\">\n",
       "      <th></th>\n",
       "      <th>Pickup point</th>\n",
       "      <th>Status</th>\n",
       "      <th>Request timestamp</th>\n",
       "      <th>Drop timestamp</th>\n",
       "      <th>req_hour</th>\n",
       "      <th>req_timeslot</th>\n",
       "    </tr>\n",
       "  </thead>\n",
       "  <tbody>\n",
       "    <tr>\n",
       "      <th>0</th>\n",
       "      <td>Airport</td>\n",
       "      <td>Trip Completed</td>\n",
       "      <td>2016-07-11 11:51:00</td>\n",
       "      <td>2016-07-11 13:00:00</td>\n",
       "      <td>11</td>\n",
       "      <td>Morning</td>\n",
       "    </tr>\n",
       "    <tr>\n",
       "      <th>1</th>\n",
       "      <td>Airport</td>\n",
       "      <td>Trip Completed</td>\n",
       "      <td>2016-07-11 17:57:00</td>\n",
       "      <td>2016-07-11 18:47:00</td>\n",
       "      <td>17</td>\n",
       "      <td>Afternoon</td>\n",
       "    </tr>\n",
       "    <tr>\n",
       "      <th>2</th>\n",
       "      <td>City</td>\n",
       "      <td>Trip Completed</td>\n",
       "      <td>2016-07-12 09:17:00</td>\n",
       "      <td>2016-07-12 09:58:00</td>\n",
       "      <td>9</td>\n",
       "      <td>Morning</td>\n",
       "    </tr>\n",
       "    <tr>\n",
       "      <th>3</th>\n",
       "      <td>Airport</td>\n",
       "      <td>Trip Completed</td>\n",
       "      <td>2016-07-12 21:08:00</td>\n",
       "      <td>2016-07-12 22:03:00</td>\n",
       "      <td>21</td>\n",
       "      <td>Night</td>\n",
       "    </tr>\n",
       "    <tr>\n",
       "      <th>4</th>\n",
       "      <td>City</td>\n",
       "      <td>Trip Completed</td>\n",
       "      <td>2016-07-13 08:33:16</td>\n",
       "      <td>2016-07-13 09:25:47</td>\n",
       "      <td>8</td>\n",
       "      <td>Morning</td>\n",
       "    </tr>\n",
       "  </tbody>\n",
       "</table>\n",
       "</div>"
      ],
      "text/plain": [
       "  Pickup point          Status   Request timestamp      Drop timestamp  \\\n",
       "0      Airport  Trip Completed 2016-07-11 11:51:00 2016-07-11 13:00:00   \n",
       "1      Airport  Trip Completed 2016-07-11 17:57:00 2016-07-11 18:47:00   \n",
       "2         City  Trip Completed 2016-07-12 09:17:00 2016-07-12 09:58:00   \n",
       "3      Airport  Trip Completed 2016-07-12 21:08:00 2016-07-12 22:03:00   \n",
       "4         City  Trip Completed 2016-07-13 08:33:16 2016-07-13 09:25:47   \n",
       "\n",
       "   req_hour req_timeslot  \n",
       "0        11      Morning  \n",
       "1        17    Afternoon  \n",
       "2         9      Morning  \n",
       "3        21        Night  \n",
       "4         8      Morning  "
      ]
     },
     "execution_count": 199,
     "metadata": {},
     "output_type": "execute_result"
    }
   ],
   "source": [
    "uber.head()"
   ]
  },
  {
   "cell_type": "code",
   "execution_count": 200,
   "id": "098ea278",
   "metadata": {},
   "outputs": [],
   "source": [
    "# air-city \n",
    "# city-air \n",
    "# ----- air to city , time duration graph of count no of trips\n",
    "\n",
    "\n",
    "# time series data \n",
    "# axis (time , range/freq)\n"
   ]
  },
  {
   "cell_type": "code",
   "execution_count": 201,
   "id": "f26e5c23",
   "metadata": {},
   "outputs": [
    {
     "data": {
      "image/png": "[encoded data removed]",
      "text/plain": [
       "<Figure size 500x500 with 1 Axes>"
      ]
     },
     "metadata": {},
     "output_type": "display_data"
    }
   ],
   "source": [
    "# colors = [\"#CC2529\", \"#8E8D8D\",\"#008000\"]\n",
    "plt.style.use('ggplot')\n",
    "uber.groupby(['Pickup point','Status']).size().unstack().plot.bar(colormap = \"winter\",legend = True,figsize = (5,5))\n",
    "plt.xlabel('Pickup point')\n",
    "plt.ylabel('Total Count of Trip Status')\n",
    "plt.show()"
   ]
  },
  {
   "cell_type": "markdown",
   "id": "dfbe050d",
   "metadata": {},
   "source": [
    "- 1. Cancelled :- City cancellations more than airport \n",
    "- 2. No Cars available :- City has more cars availble than airport (city is more populated region)\n",
    "- 3. Trip Completed :- More trips completed from city than airport "
   ]
  },
  {
   "cell_type": "code",
   "execution_count": 202,
   "id": "002fa63e",
   "metadata": {},
   "outputs": [
    {
     "data": {
      "text/plain": [
       "Pickup point  Status           \n",
       "Airport       Cancelled             198\n",
       "              No Cars Available    1713\n",
       "              Trip Completed       1327\n",
       "City          Cancelled            1066\n",
       "              No Cars Available     937\n",
       "              Trip Completed       1504\n",
       "dtype: int64"
      ]
     },
     "execution_count": 202,
     "metadata": {},
     "output_type": "execute_result"
    }
   ],
   "source": [
    "uber.groupby(['Pickup point','Status']).size()"
   ]
  },
  {
   "cell_type": "markdown",
   "id": "a89b99a7",
   "metadata": {},
   "source": [
    "- 1. Cancelled :- City cancellations more than airport\n",
    "    1.1:- City cancellations more happen in the early-Mornings, and Mornings\n",
    "    1.2:- Cancellations in the evening nad nigh is leeser for both city and airport \n",
    "- 2. No Cars available :- City has more cars availble than airport (city is more populated region)\n",
    "    2.1:- No cars available during evening and night for pickups from airport\n",
    "    2.2:- City has fewers cars available during mornings and early mornings for airport drop(more cars may available for city runs)\n",
    "- 3. Trip Completed :- More trips completed from city than airport \n",
    "    3.1:- in  mornings \n",
    "    3.2:- During nights trip completed are fewers in both cases.\n",
    "    "
   ]
  },
  {
   "cell_type": "code",
   "execution_count": 203,
   "id": "b0079b51",
   "metadata": {},
   "outputs": [
    {
     "data": {
      "image/png": "[encoded data removed]",
      "text/plain": [
       "<Figure size 600x500 with 1 Axes>"
      ]
     },
     "metadata": {},
     "output_type": "display_data"
    }
   ],
   "source": [
    "# plotting frequency of all \"Trip Status\" over the hour of day \n",
    "plt.style.use('ggplot')\n",
    "# colors = ['cool']\n",
    "uber.groupby(['req_timeslot','Status']).Status.count().unstack().plot.bar(legend=True, figsize=(6,5), colormap=\"winter\")\n",
    "plt.title('Total Count of all Trip Statuses')\n",
    "plt.xlabel('time_slots')\n",
    "plt.ylabel('Total Count of Trip Status')\n",
    "plt.show()"
   ]
  },
  {
   "cell_type": "code",
   "execution_count": 204,
   "id": "fca3d6d8",
   "metadata": {},
   "outputs": [
    {
     "data": {
      "text/html": [
       "<div>\n",
       "<style scoped>\n",
       "    .dataframe tbody tr th:only-of-type {\n",
       "        vertical-align: middle;\n",
       "    }\n",
       "\n",
       "    .dataframe tbody tr th {\n",
       "        vertical-align: top;\n",
       "    }\n",
       "\n",
       "    .dataframe thead th {\n",
       "        text-align: right;\n",
       "    }\n",
       "</style>\n",
       "<table border=\"1\" class=\"dataframe\">\n",
       "  <thead>\n",
       "    <tr style=\"text-align: right;\">\n",
       "      <th></th>\n",
       "      <th>Pickup point</th>\n",
       "      <th>Status</th>\n",
       "      <th>Request timestamp</th>\n",
       "      <th>Drop timestamp</th>\n",
       "      <th>req_hour</th>\n",
       "      <th>req_timeslot</th>\n",
       "    </tr>\n",
       "  </thead>\n",
       "  <tbody>\n",
       "    <tr>\n",
       "      <th>0</th>\n",
       "      <td>City</td>\n",
       "      <td>Cancelled</td>\n",
       "      <td>2016-07-13 06:08:41</td>\n",
       "      <td>NaT</td>\n",
       "      <td>6</td>\n",
       "      <td>Early morning</td>\n",
       "    </tr>\n",
       "    <tr>\n",
       "      <th>1</th>\n",
       "      <td>City</td>\n",
       "      <td>Cancelled</td>\n",
       "      <td>2016-07-14 17:07:58</td>\n",
       "      <td>NaT</td>\n",
       "      <td>17</td>\n",
       "      <td>Afternoon</td>\n",
       "    </tr>\n",
       "    <tr>\n",
       "      <th>2</th>\n",
       "      <td>Airport</td>\n",
       "      <td>Cancelled</td>\n",
       "      <td>2016-07-14 20:51:37</td>\n",
       "      <td>NaT</td>\n",
       "      <td>20</td>\n",
       "      <td>Evening</td>\n",
       "    </tr>\n",
       "    <tr>\n",
       "      <th>3</th>\n",
       "      <td>City</td>\n",
       "      <td>Cancelled</td>\n",
       "      <td>2016-07-15 10:12:40</td>\n",
       "      <td>NaT</td>\n",
       "      <td>10</td>\n",
       "      <td>Morning</td>\n",
       "    </tr>\n",
       "    <tr>\n",
       "      <th>4</th>\n",
       "      <td>Airport</td>\n",
       "      <td>Cancelled</td>\n",
       "      <td>2016-07-12 19:14:00</td>\n",
       "      <td>NaT</td>\n",
       "      <td>19</td>\n",
       "      <td>Evening</td>\n",
       "    </tr>\n",
       "  </tbody>\n",
       "</table>\n",
       "</div>"
      ],
      "text/plain": [
       "  Pickup point     Status   Request timestamp Drop timestamp  req_hour  \\\n",
       "0         City  Cancelled 2016-07-13 06:08:41            NaT         6   \n",
       "1         City  Cancelled 2016-07-14 17:07:58            NaT        17   \n",
       "2      Airport  Cancelled 2016-07-14 20:51:37            NaT        20   \n",
       "3         City  Cancelled 2016-07-15 10:12:40            NaT        10   \n",
       "4      Airport  Cancelled 2016-07-12 19:14:00            NaT        19   \n",
       "\n",
       "    req_timeslot  \n",
       "0  Early morning  \n",
       "1      Afternoon  \n",
       "2        Evening  \n",
       "3        Morning  \n",
       "4        Evening  "
      ]
     },
     "execution_count": 204,
     "metadata": {},
     "output_type": "execute_result"
    }
   ],
   "source": [
    "# Filtering out only \"Cancelled\"  trips\n",
    "df_tripscancelled=uber[uber[\"Status\"].str.contains('Cancelled')==True]\n",
    "df_tripscancelled=df_tripscancelled.reset_index(drop=True)\n",
    "df_tripscancelled.head()"
   ]
  },
  {
   "cell_type": "code",
   "execution_count": 205,
   "id": "ffae6c19",
   "metadata": {},
   "outputs": [
    {
     "data": {
      "text/html": [
       "<div>\n",
       "<style scoped>\n",
       "    .dataframe tbody tr th:only-of-type {\n",
       "        vertical-align: middle;\n",
       "    }\n",
       "\n",
       "    .dataframe tbody tr th {\n",
       "        vertical-align: top;\n",
       "    }\n",
       "\n",
       "    .dataframe thead th {\n",
       "        text-align: right;\n",
       "    }\n",
       "</style>\n",
       "<table border=\"1\" class=\"dataframe\">\n",
       "  <thead>\n",
       "    <tr style=\"text-align: right;\">\n",
       "      <th></th>\n",
       "      <th>Pickup point</th>\n",
       "      <th>Status</th>\n",
       "      <th>Request timestamp</th>\n",
       "      <th>Drop timestamp</th>\n",
       "      <th>req_hour</th>\n",
       "      <th>req_timeslot</th>\n",
       "    </tr>\n",
       "  </thead>\n",
       "  <tbody>\n",
       "    <tr>\n",
       "      <th>0</th>\n",
       "      <td>Airport</td>\n",
       "      <td>Trip Completed</td>\n",
       "      <td>2016-07-11 11:51:00</td>\n",
       "      <td>2016-07-11 13:00:00</td>\n",
       "      <td>11</td>\n",
       "      <td>Morning</td>\n",
       "    </tr>\n",
       "    <tr>\n",
       "      <th>1</th>\n",
       "      <td>Airport</td>\n",
       "      <td>Trip Completed</td>\n",
       "      <td>2016-07-11 17:57:00</td>\n",
       "      <td>2016-07-11 18:47:00</td>\n",
       "      <td>17</td>\n",
       "      <td>Afternoon</td>\n",
       "    </tr>\n",
       "    <tr>\n",
       "      <th>2</th>\n",
       "      <td>City</td>\n",
       "      <td>Trip Completed</td>\n",
       "      <td>2016-07-12 09:17:00</td>\n",
       "      <td>2016-07-12 09:58:00</td>\n",
       "      <td>9</td>\n",
       "      <td>Morning</td>\n",
       "    </tr>\n",
       "    <tr>\n",
       "      <th>3</th>\n",
       "      <td>Airport</td>\n",
       "      <td>Trip Completed</td>\n",
       "      <td>2016-07-12 21:08:00</td>\n",
       "      <td>2016-07-12 22:03:00</td>\n",
       "      <td>21</td>\n",
       "      <td>Night</td>\n",
       "    </tr>\n",
       "    <tr>\n",
       "      <th>4</th>\n",
       "      <td>City</td>\n",
       "      <td>Trip Completed</td>\n",
       "      <td>2016-07-13 08:33:16</td>\n",
       "      <td>2016-07-13 09:25:47</td>\n",
       "      <td>8</td>\n",
       "      <td>Morning</td>\n",
       "    </tr>\n",
       "  </tbody>\n",
       "</table>\n",
       "</div>"
      ],
      "text/plain": [
       "  Pickup point          Status   Request timestamp      Drop timestamp  \\\n",
       "0      Airport  Trip Completed 2016-07-11 11:51:00 2016-07-11 13:00:00   \n",
       "1      Airport  Trip Completed 2016-07-11 17:57:00 2016-07-11 18:47:00   \n",
       "2         City  Trip Completed 2016-07-12 09:17:00 2016-07-12 09:58:00   \n",
       "3      Airport  Trip Completed 2016-07-12 21:08:00 2016-07-12 22:03:00   \n",
       "4         City  Trip Completed 2016-07-13 08:33:16 2016-07-13 09:25:47   \n",
       "\n",
       "   req_hour req_timeslot  \n",
       "0        11      Morning  \n",
       "1        17    Afternoon  \n",
       "2         9      Morning  \n",
       "3        21        Night  \n",
       "4         8      Morning  "
      ]
     },
     "execution_count": 205,
     "metadata": {},
     "output_type": "execute_result"
    }
   ],
   "source": [
    "# Filtering out only \"Trip Completed\"  trips\n",
    "df_tripscompleted=uber[uber[\"Status\"].str.contains('Trip Completed')==True]\n",
    "df_tripscompleted=df_tripscompleted.reset_index(drop=True)\n",
    "df_tripscompleted.head()"
   ]
  },
  {
   "cell_type": "code",
   "execution_count": 206,
   "id": "b60f33b9",
   "metadata": {},
   "outputs": [
    {
     "data": {
      "text/html": [
       "<div>\n",
       "<style scoped>\n",
       "    .dataframe tbody tr th:only-of-type {\n",
       "        vertical-align: middle;\n",
       "    }\n",
       "\n",
       "    .dataframe tbody tr th {\n",
       "        vertical-align: top;\n",
       "    }\n",
       "\n",
       "    .dataframe thead th {\n",
       "        text-align: right;\n",
       "    }\n",
       "</style>\n",
       "<table border=\"1\" class=\"dataframe\">\n",
       "  <thead>\n",
       "    <tr style=\"text-align: right;\">\n",
       "      <th></th>\n",
       "      <th>Pickup point</th>\n",
       "      <th>Status</th>\n",
       "      <th>Request timestamp</th>\n",
       "      <th>Drop timestamp</th>\n",
       "      <th>req_hour</th>\n",
       "      <th>req_timeslot</th>\n",
       "    </tr>\n",
       "  </thead>\n",
       "  <tbody>\n",
       "    <tr>\n",
       "      <th>0</th>\n",
       "      <td>City</td>\n",
       "      <td>No Cars Available</td>\n",
       "      <td>2016-07-11 00:02:00</td>\n",
       "      <td>NaT</td>\n",
       "      <td>0</td>\n",
       "      <td>NaN</td>\n",
       "    </tr>\n",
       "    <tr>\n",
       "      <th>1</th>\n",
       "      <td>City</td>\n",
       "      <td>No Cars Available</td>\n",
       "      <td>2016-07-11 00:06:00</td>\n",
       "      <td>NaT</td>\n",
       "      <td>0</td>\n",
       "      <td>NaN</td>\n",
       "    </tr>\n",
       "    <tr>\n",
       "      <th>2</th>\n",
       "      <td>City</td>\n",
       "      <td>No Cars Available</td>\n",
       "      <td>2016-07-11 00:09:00</td>\n",
       "      <td>NaT</td>\n",
       "      <td>0</td>\n",
       "      <td>NaN</td>\n",
       "    </tr>\n",
       "    <tr>\n",
       "      <th>3</th>\n",
       "      <td>Airport</td>\n",
       "      <td>No Cars Available</td>\n",
       "      <td>2016-07-11 00:23:00</td>\n",
       "      <td>NaT</td>\n",
       "      <td>0</td>\n",
       "      <td>NaN</td>\n",
       "    </tr>\n",
       "    <tr>\n",
       "      <th>4</th>\n",
       "      <td>Airport</td>\n",
       "      <td>No Cars Available</td>\n",
       "      <td>2016-07-11 00:30:00</td>\n",
       "      <td>NaT</td>\n",
       "      <td>0</td>\n",
       "      <td>NaN</td>\n",
       "    </tr>\n",
       "  </tbody>\n",
       "</table>\n",
       "</div>"
      ],
      "text/plain": [
       "  Pickup point             Status   Request timestamp Drop timestamp  \\\n",
       "0         City  No Cars Available 2016-07-11 00:02:00            NaT   \n",
       "1         City  No Cars Available 2016-07-11 00:06:00            NaT   \n",
       "2         City  No Cars Available 2016-07-11 00:09:00            NaT   \n",
       "3      Airport  No Cars Available 2016-07-11 00:23:00            NaT   \n",
       "4      Airport  No Cars Available 2016-07-11 00:30:00            NaT   \n",
       "\n",
       "   req_hour req_timeslot  \n",
       "0         0          NaN  \n",
       "1         0          NaN  \n",
       "2         0          NaN  \n",
       "3         0          NaN  \n",
       "4         0          NaN  "
      ]
     },
     "execution_count": 206,
     "metadata": {},
     "output_type": "execute_result"
    }
   ],
   "source": [
    "# Filtering out only \"No Cars Available\"  trips\n",
    "df_nocars=uber[uber[\"Status\"].str.contains('No Cars Available')==True]\n",
    "df_nocars=df_nocars.reset_index(drop=True)\n",
    "df_nocars.head()"
   ]
  },
  {
   "cell_type": "markdown",
   "id": "c451bb01",
   "metadata": {},
   "source": [
    "- sns countplot\n",
    "<!-- # # Grouping by Status and Pickup point. -->\n",
    "<!-- # uber.groupby(['Status','Pickup point']).size() -->\n",
    "<!-- # # Visualize Status and Pickup point -->\n",
    "<!-- # sns.countplot(x=uber['Pickup point'] , hue = uber['Status'] ,data = uber) -->"
   ]
  },
  {
   "cell_type": "code",
   "execution_count": null,
   "id": "48e16fc4",
   "metadata": {},
   "outputs": [],
   "source": []
  },
  {
   "cell_type": "code",
   "execution_count": 207,
   "id": "4365fb8e",
   "metadata": {},
   "outputs": [
    {
     "data": {
      "image/png": "[encoded data removed]",
      "text/plain": [
       "<Figure size 600x600 with 1 Axes>"
      ]
     },
     "metadata": {},
     "output_type": "display_data"
    }
   ],
   "source": [
    "# plotting share/frequency of all Cancelled trips over the day to identify problem areas\n",
    "plt.style.use('ggplot')\n",
    "df_tripscompleted.groupby(['req_timeslot','Pickup point']).Status.count().unstack().plot.bar(legend=True, figsize=(6,6), colormap=\"winter\")\n",
    "plt.title('Count and Distribution of all \"Cancelled\" Trips over the day')\n",
    "plt.xlabel('req_timeslot')\n",
    "plt.ylabel('Total Count of \"Completed\" Trips')\n",
    "plt.show()"
   ]
  },
  {
   "cell_type": "code",
   "execution_count": 208,
   "id": "a7381c6b",
   "metadata": {},
   "outputs": [
    {
     "data": {
      "image/png": "[encoded data removed]",
      "text/plain": [
       "<Figure size 600x600 with 1 Axes>"
      ]
     },
     "metadata": {},
     "output_type": "display_data"
    }
   ],
   "source": [
    "# plotting share/frequency of all Cancelled trips over the day to identify problem areas\n",
    "plt.style.use('ggplot')\n",
    "df_nocars.groupby(['req_timeslot','Pickup point']).Status.count().unstack().plot.bar(legend=True, figsize=(6,6), colormap=\"winter\")\n",
    "plt.title('Count and Distribution of all \"Cancelled\" Trips over the day')\n",
    "plt.xlabel('req_timeslot')\n",
    "plt.ylabel('Total Count of \"No Cars available\" Trips')\n",
    "plt.show()"
   ]
  },
  {
   "cell_type": "code",
   "execution_count": 209,
   "id": "eae19373",
   "metadata": {},
   "outputs": [
    {
     "data": {
      "text/html": [
       "<div>\n",
       "<style scoped>\n",
       "    .dataframe tbody tr th:only-of-type {\n",
       "        vertical-align: middle;\n",
       "    }\n",
       "\n",
       "    .dataframe tbody tr th {\n",
       "        vertical-align: top;\n",
       "    }\n",
       "\n",
       "    .dataframe thead th {\n",
       "        text-align: right;\n",
       "    }\n",
       "</style>\n",
       "<table border=\"1\" class=\"dataframe\">\n",
       "  <thead>\n",
       "    <tr style=\"text-align: right;\">\n",
       "      <th></th>\n",
       "      <th>Pickup point</th>\n",
       "      <th>Status</th>\n",
       "      <th>Request timestamp</th>\n",
       "      <th>Drop timestamp</th>\n",
       "      <th>req_hour</th>\n",
       "      <th>req_timeslot</th>\n",
       "      <th>supply_demand</th>\n",
       "    </tr>\n",
       "  </thead>\n",
       "  <tbody>\n",
       "    <tr>\n",
       "      <th>6735</th>\n",
       "      <td>Airport</td>\n",
       "      <td>No Cars Available</td>\n",
       "      <td>2016-07-15 23:39:15</td>\n",
       "      <td>NaT</td>\n",
       "      <td>23</td>\n",
       "      <td>Night</td>\n",
       "      <td>Demand</td>\n",
       "    </tr>\n",
       "    <tr>\n",
       "      <th>6736</th>\n",
       "      <td>Airport</td>\n",
       "      <td>No Cars Available</td>\n",
       "      <td>2016-07-15 23:42:51</td>\n",
       "      <td>NaT</td>\n",
       "      <td>23</td>\n",
       "      <td>Night</td>\n",
       "      <td>Demand</td>\n",
       "    </tr>\n",
       "    <tr>\n",
       "      <th>6737</th>\n",
       "      <td>City</td>\n",
       "      <td>No Cars Available</td>\n",
       "      <td>2016-07-15 23:43:54</td>\n",
       "      <td>NaT</td>\n",
       "      <td>23</td>\n",
       "      <td>Night</td>\n",
       "      <td>Demand</td>\n",
       "    </tr>\n",
       "    <tr>\n",
       "      <th>6738</th>\n",
       "      <td>City</td>\n",
       "      <td>No Cars Available</td>\n",
       "      <td>2016-07-15 23:46:03</td>\n",
       "      <td>NaT</td>\n",
       "      <td>23</td>\n",
       "      <td>Night</td>\n",
       "      <td>Demand</td>\n",
       "    </tr>\n",
       "    <tr>\n",
       "      <th>6739</th>\n",
       "      <td>City</td>\n",
       "      <td>No Cars Available</td>\n",
       "      <td>2016-07-15 23:46:20</td>\n",
       "      <td>NaT</td>\n",
       "      <td>23</td>\n",
       "      <td>Night</td>\n",
       "      <td>Demand</td>\n",
       "    </tr>\n",
       "    <tr>\n",
       "      <th>6740</th>\n",
       "      <td>City</td>\n",
       "      <td>No Cars Available</td>\n",
       "      <td>2016-07-15 23:49:03</td>\n",
       "      <td>NaT</td>\n",
       "      <td>23</td>\n",
       "      <td>Night</td>\n",
       "      <td>Demand</td>\n",
       "    </tr>\n",
       "    <tr>\n",
       "      <th>6741</th>\n",
       "      <td>Airport</td>\n",
       "      <td>No Cars Available</td>\n",
       "      <td>2016-07-15 23:50:05</td>\n",
       "      <td>NaT</td>\n",
       "      <td>23</td>\n",
       "      <td>Night</td>\n",
       "      <td>Demand</td>\n",
       "    </tr>\n",
       "    <tr>\n",
       "      <th>6742</th>\n",
       "      <td>City</td>\n",
       "      <td>No Cars Available</td>\n",
       "      <td>2016-07-15 23:52:06</td>\n",
       "      <td>NaT</td>\n",
       "      <td>23</td>\n",
       "      <td>Night</td>\n",
       "      <td>Demand</td>\n",
       "    </tr>\n",
       "    <tr>\n",
       "      <th>6743</th>\n",
       "      <td>City</td>\n",
       "      <td>No Cars Available</td>\n",
       "      <td>2016-07-15 23:54:39</td>\n",
       "      <td>NaT</td>\n",
       "      <td>23</td>\n",
       "      <td>Night</td>\n",
       "      <td>Demand</td>\n",
       "    </tr>\n",
       "    <tr>\n",
       "      <th>6744</th>\n",
       "      <td>Airport</td>\n",
       "      <td>No Cars Available</td>\n",
       "      <td>2016-07-15 23:55:03</td>\n",
       "      <td>NaT</td>\n",
       "      <td>23</td>\n",
       "      <td>Night</td>\n",
       "      <td>Demand</td>\n",
       "    </tr>\n",
       "  </tbody>\n",
       "</table>\n",
       "</div>"
      ],
      "text/plain": [
       "     Pickup point             Status   Request timestamp Drop timestamp  \\\n",
       "6735      Airport  No Cars Available 2016-07-15 23:39:15            NaT   \n",
       "6736      Airport  No Cars Available 2016-07-15 23:42:51            NaT   \n",
       "6737         City  No Cars Available 2016-07-15 23:43:54            NaT   \n",
       "6738         City  No Cars Available 2016-07-15 23:46:03            NaT   \n",
       "6739         City  No Cars Available 2016-07-15 23:46:20            NaT   \n",
       "6740         City  No Cars Available 2016-07-15 23:49:03            NaT   \n",
       "6741      Airport  No Cars Available 2016-07-15 23:50:05            NaT   \n",
       "6742         City  No Cars Available 2016-07-15 23:52:06            NaT   \n",
       "6743         City  No Cars Available 2016-07-15 23:54:39            NaT   \n",
       "6744      Airport  No Cars Available 2016-07-15 23:55:03            NaT   \n",
       "\n",
       "      req_hour req_timeslot supply_demand  \n",
       "6735        23        Night        Demand  \n",
       "6736        23        Night        Demand  \n",
       "6737        23        Night        Demand  \n",
       "6738        23        Night        Demand  \n",
       "6739        23        Night        Demand  \n",
       "6740        23        Night        Demand  \n",
       "6741        23        Night        Demand  \n",
       "6742        23        Night        Demand  \n",
       "6743        23        Night        Demand  \n",
       "6744        23        Night        Demand  "
      ]
     },
     "execution_count": 209,
     "metadata": {},
     "output_type": "execute_result"
    }
   ],
   "source": [
    "uber['supply_demand'] = ['Supply' if x == 'Trip Completed' else 'Demand' for x in uber['Status']]\n",
    "uber.tail(10)"
   ]
  },
  {
   "cell_type": "code",
   "execution_count": 210,
   "id": "f0da53f0",
   "metadata": {},
   "outputs": [
    {
     "data": {
      "text/plain": [
       "supply_demand\n",
       "Demand    3914\n",
       "Supply    2831\n",
       "Name: count, dtype: int64"
      ]
     },
     "execution_count": 210,
     "metadata": {},
     "output_type": "execute_result"
    }
   ],
   "source": [
    "uber['supply_demand'].value_counts()"
   ]
  },
  {
   "cell_type": "code",
   "execution_count": 211,
   "id": "3e61e9c3",
   "metadata": {},
   "outputs": [
    {
     "data": {
      "image/png": "[encoded data removed]",
      "text/plain": [
       "<Figure size 500x500 with 1 Axes>"
      ]
     },
     "metadata": {},
     "output_type": "display_data"
    }
   ],
   "source": [
    "#Plotting Supply and Demand on the City to Airport Route\n",
    "df_citytoairport_supplydemand=uber[uber['Pickup point'].str.contains('City')==True]\n",
    "plt.style.use('ggplot')\n",
    "df_citytoairport_supplydemand.groupby(['req_timeslot','supply_demand']).supply_demand.count().unstack().plot.bar(legend=True, figsize=(5,5))\n",
    "plt.title('Supply-Demand curve for City to Airport Route')\n",
    "plt.xlabel('time_slots')\n",
    "plt.ylabel('Supply/Demand')\n",
    "plt.show()"
   ]
  },
  {
   "cell_type": "markdown",
   "id": "69c4b870",
   "metadata": {},
   "source": [
    "- Cancelled :- City cancellations more than airport 1.1:- City cancellations more happen in the early-Mornings, and Mornings 1.2:- Cancellations in the evening nad nigh is leeser for both city and airport\n",
    "No Cars available :- City has more cars availble than airport (city is more populated region) 2.1:- No cars available during evening and night for pickups from airport 2.2:- City has fewers cars available during mornings and early mornings for airport drop(more cars may available for city runs)\n",
    "Trip Completed :- More trips completed from city than airport 3.1:- in mornings 3.2:- During nights trip completed are fewers in both cases.m"
   ]
  },
  {
   "cell_type": "code",
   "execution_count": 212,
   "id": "dc8b63cd",
   "metadata": {},
   "outputs": [
    {
     "data": {
      "image/png": "[encoded data removed]",
      "text/plain": [
       "<Figure size 500x500 with 1 Axes>"
      ]
     },
     "metadata": {},
     "output_type": "display_data"
    }
   ],
   "source": [
    "#Plotting Supply and Demand on the Airport to City route\n",
    "df_airporttocity_supplydemand=uber[uber['Pickup point'].str.contains('Airport')==True]\n",
    "plt.style.use('ggplot')\n",
    "df_airporttocity_supplydemand.groupby(['req_timeslot','supply_demand']).supply_demand.count().unstack().plot.bar(legend=True, figsize=(5,5))\n",
    "plt.title('Supply-Demand curve for Airport to City Route')\n",
    "plt.xlabel('req_timeslot')\n",
    "plt.ylabel('Supply/Demand')\n",
    "plt.show()"
   ]
  },
  {
   "cell_type": "markdown",
   "id": "c1b5c1e3",
   "metadata": {},
   "source": [
    "- Date ,Day ,Year` function task "
   ]
  },
  {
   "cell_type": "code",
   "execution_count": 216,
   "id": "16b32f9d",
   "metadata": {},
   "outputs": [],
   "source": [
    "def hr_func(ts):\n",
    "    return ts.day\n",
    "\n",
    "uber['req_day'] = uber['Request timestamp'].apply(hr_func)\n"
   ]
  },
  {
   "cell_type": "code",
   "execution_count": 218,
   "id": "31073184",
   "metadata": {},
   "outputs": [
    {
     "data": {
      "text/html": [
       "<div>\n",
       "<style scoped>\n",
       "    .dataframe tbody tr th:only-of-type {\n",
       "        vertical-align: middle;\n",
       "    }\n",
       "\n",
       "    .dataframe tbody tr th {\n",
       "        vertical-align: top;\n",
       "    }\n",
       "\n",
       "    .dataframe thead th {\n",
       "        text-align: right;\n",
       "    }\n",
       "</style>\n",
       "<table border=\"1\" class=\"dataframe\">\n",
       "  <thead>\n",
       "    <tr style=\"text-align: right;\">\n",
       "      <th></th>\n",
       "      <th>Pickup point</th>\n",
       "      <th>Status</th>\n",
       "      <th>Request timestamp</th>\n",
       "      <th>Drop timestamp</th>\n",
       "      <th>req_hour</th>\n",
       "      <th>req_timeslot</th>\n",
       "      <th>supply_demand</th>\n",
       "      <th>req_day</th>\n",
       "    </tr>\n",
       "  </thead>\n",
       "  <tbody>\n",
       "    <tr>\n",
       "      <th>0</th>\n",
       "      <td>Airport</td>\n",
       "      <td>Trip Completed</td>\n",
       "      <td>2016-07-11 11:51:00</td>\n",
       "      <td>2016-07-11 13:00:00</td>\n",
       "      <td>11</td>\n",
       "      <td>Morning</td>\n",
       "      <td>Supply</td>\n",
       "      <td>11</td>\n",
       "    </tr>\n",
       "    <tr>\n",
       "      <th>1</th>\n",
       "      <td>Airport</td>\n",
       "      <td>Trip Completed</td>\n",
       "      <td>2016-07-11 17:57:00</td>\n",
       "      <td>2016-07-11 18:47:00</td>\n",
       "      <td>17</td>\n",
       "      <td>Afternoon</td>\n",
       "      <td>Supply</td>\n",
       "      <td>11</td>\n",
       "    </tr>\n",
       "    <tr>\n",
       "      <th>2</th>\n",
       "      <td>City</td>\n",
       "      <td>Trip Completed</td>\n",
       "      <td>2016-07-12 09:17:00</td>\n",
       "      <td>2016-07-12 09:58:00</td>\n",
       "      <td>9</td>\n",
       "      <td>Morning</td>\n",
       "      <td>Supply</td>\n",
       "      <td>12</td>\n",
       "    </tr>\n",
       "    <tr>\n",
       "      <th>3</th>\n",
       "      <td>Airport</td>\n",
       "      <td>Trip Completed</td>\n",
       "      <td>2016-07-12 21:08:00</td>\n",
       "      <td>2016-07-12 22:03:00</td>\n",
       "      <td>21</td>\n",
       "      <td>Night</td>\n",
       "      <td>Supply</td>\n",
       "      <td>12</td>\n",
       "    </tr>\n",
       "    <tr>\n",
       "      <th>4</th>\n",
       "      <td>City</td>\n",
       "      <td>Trip Completed</td>\n",
       "      <td>2016-07-13 08:33:16</td>\n",
       "      <td>2016-07-13 09:25:47</td>\n",
       "      <td>8</td>\n",
       "      <td>Morning</td>\n",
       "      <td>Supply</td>\n",
       "      <td>13</td>\n",
       "    </tr>\n",
       "  </tbody>\n",
       "</table>\n",
       "</div>"
      ],
      "text/plain": [
       "  Pickup point          Status   Request timestamp      Drop timestamp  \\\n",
       "0      Airport  Trip Completed 2016-07-11 11:51:00 2016-07-11 13:00:00   \n",
       "1      Airport  Trip Completed 2016-07-11 17:57:00 2016-07-11 18:47:00   \n",
       "2         City  Trip Completed 2016-07-12 09:17:00 2016-07-12 09:58:00   \n",
       "3      Airport  Trip Completed 2016-07-12 21:08:00 2016-07-12 22:03:00   \n",
       "4         City  Trip Completed 2016-07-13 08:33:16 2016-07-13 09:25:47   \n",
       "\n",
       "   req_hour req_timeslot supply_demand  req_day  \n",
       "0        11      Morning        Supply       11  \n",
       "1        17    Afternoon        Supply       11  \n",
       "2         9      Morning        Supply       12  \n",
       "3        21        Night        Supply       12  \n",
       "4         8      Morning        Supply       13  "
      ]
     },
     "execution_count": 218,
     "metadata": {},
     "output_type": "execute_result"
    }
   ],
   "source": [
    "uber.head()"
   ]
  },
  {
   "cell_type": "code",
   "execution_count": 219,
   "id": "d0bb9d0a",
   "metadata": {},
   "outputs": [],
   "source": [
    "def hr_func(ts):\n",
    "    return ts.month\n",
    "\n",
    "uber['req_month'] = uber['Request timestamp'].apply(hr_func)\n"
   ]
  },
  {
   "cell_type": "code",
   "execution_count": 220,
   "id": "231b694b",
   "metadata": {},
   "outputs": [
    {
     "data": {
      "text/html": [
       "<div>\n",
       "<style scoped>\n",
       "    .dataframe tbody tr th:only-of-type {\n",
       "        vertical-align: middle;\n",
       "    }\n",
       "\n",
       "    .dataframe tbody tr th {\n",
       "        vertical-align: top;\n",
       "    }\n",
       "\n",
       "    .dataframe thead th {\n",
       "        text-align: right;\n",
       "    }\n",
       "</style>\n",
       "<table border=\"1\" class=\"dataframe\">\n",
       "  <thead>\n",
       "    <tr style=\"text-align: right;\">\n",
       "      <th></th>\n",
       "      <th>Pickup point</th>\n",
       "      <th>Status</th>\n",
       "      <th>Request timestamp</th>\n",
       "      <th>Drop timestamp</th>\n",
       "      <th>req_hour</th>\n",
       "      <th>req_timeslot</th>\n",
       "      <th>supply_demand</th>\n",
       "      <th>req_day</th>\n",
       "      <th>req_month</th>\n",
       "    </tr>\n",
       "  </thead>\n",
       "  <tbody>\n",
       "    <tr>\n",
       "      <th>0</th>\n",
       "      <td>Airport</td>\n",
       "      <td>Trip Completed</td>\n",
       "      <td>2016-07-11 11:51:00</td>\n",
       "      <td>2016-07-11 13:00:00</td>\n",
       "      <td>11</td>\n",
       "      <td>Morning</td>\n",
       "      <td>Supply</td>\n",
       "      <td>11</td>\n",
       "      <td>7</td>\n",
       "    </tr>\n",
       "    <tr>\n",
       "      <th>1</th>\n",
       "      <td>Airport</td>\n",
       "      <td>Trip Completed</td>\n",
       "      <td>2016-07-11 17:57:00</td>\n",
       "      <td>2016-07-11 18:47:00</td>\n",
       "      <td>17</td>\n",
       "      <td>Afternoon</td>\n",
       "      <td>Supply</td>\n",
       "      <td>11</td>\n",
       "      <td>7</td>\n",
       "    </tr>\n",
       "    <tr>\n",
       "      <th>2</th>\n",
       "      <td>City</td>\n",
       "      <td>Trip Completed</td>\n",
       "      <td>2016-07-12 09:17:00</td>\n",
       "      <td>2016-07-12 09:58:00</td>\n",
       "      <td>9</td>\n",
       "      <td>Morning</td>\n",
       "      <td>Supply</td>\n",
       "      <td>12</td>\n",
       "      <td>7</td>\n",
       "    </tr>\n",
       "    <tr>\n",
       "      <th>3</th>\n",
       "      <td>Airport</td>\n",
       "      <td>Trip Completed</td>\n",
       "      <td>2016-07-12 21:08:00</td>\n",
       "      <td>2016-07-12 22:03:00</td>\n",
       "      <td>21</td>\n",
       "      <td>Night</td>\n",
       "      <td>Supply</td>\n",
       "      <td>12</td>\n",
       "      <td>7</td>\n",
       "    </tr>\n",
       "    <tr>\n",
       "      <th>4</th>\n",
       "      <td>City</td>\n",
       "      <td>Trip Completed</td>\n",
       "      <td>2016-07-13 08:33:16</td>\n",
       "      <td>2016-07-13 09:25:47</td>\n",
       "      <td>8</td>\n",
       "      <td>Morning</td>\n",
       "      <td>Supply</td>\n",
       "      <td>13</td>\n",
       "      <td>7</td>\n",
       "    </tr>\n",
       "  </tbody>\n",
       "</table>\n",
       "</div>"
      ],
      "text/plain": [
       "  Pickup point          Status   Request timestamp      Drop timestamp  \\\n",
       "0      Airport  Trip Completed 2016-07-11 11:51:00 2016-07-11 13:00:00   \n",
       "1      Airport  Trip Completed 2016-07-11 17:57:00 2016-07-11 18:47:00   \n",
       "2         City  Trip Completed 2016-07-12 09:17:00 2016-07-12 09:58:00   \n",
       "3      Airport  Trip Completed 2016-07-12 21:08:00 2016-07-12 22:03:00   \n",
       "4         City  Trip Completed 2016-07-13 08:33:16 2016-07-13 09:25:47   \n",
       "\n",
       "   req_hour req_timeslot supply_demand  req_day  req_month  \n",
       "0        11      Morning        Supply       11          7  \n",
       "1        17    Afternoon        Supply       11          7  \n",
       "2         9      Morning        Supply       12          7  \n",
       "3        21        Night        Supply       12          7  \n",
       "4         8      Morning        Supply       13          7  "
      ]
     },
     "execution_count": 220,
     "metadata": {},
     "output_type": "execute_result"
    }
   ],
   "source": [
    "uber.head()"
   ]
  },
  {
   "cell_type": "code",
   "execution_count": 221,
   "id": "b666cd8b",
   "metadata": {},
   "outputs": [],
   "source": [
    "def hr_func(ts):\n",
    "    return ts.year\n",
    "\n",
    "uber['req_year'] = uber['Request timestamp'].apply(hr_func)\n"
   ]
  },
  {
   "cell_type": "code",
   "execution_count": 222,
   "id": "b6ac920f",
   "metadata": {},
   "outputs": [
    {
     "data": {
      "text/html": [
       "<div>\n",
       "<style scoped>\n",
       "    .dataframe tbody tr th:only-of-type {\n",
       "        vertical-align: middle;\n",
       "    }\n",
       "\n",
       "    .dataframe tbody tr th {\n",
       "        vertical-align: top;\n",
       "    }\n",
       "\n",
       "    .dataframe thead th {\n",
       "        text-align: right;\n",
       "    }\n",
       "</style>\n",
       "<table border=\"1\" class=\"dataframe\">\n",
       "  <thead>\n",
       "    <tr style=\"text-align: right;\">\n",
       "      <th></th>\n",
       "      <th>Pickup point</th>\n",
       "      <th>Status</th>\n",
       "      <th>Request timestamp</th>\n",
       "      <th>Drop timestamp</th>\n",
       "      <th>req_hour</th>\n",
       "      <th>req_timeslot</th>\n",
       "      <th>supply_demand</th>\n",
       "      <th>req_day</th>\n",
       "      <th>req_month</th>\n",
       "      <th>req_year</th>\n",
       "    </tr>\n",
       "  </thead>\n",
       "  <tbody>\n",
       "    <tr>\n",
       "      <th>0</th>\n",
       "      <td>Airport</td>\n",
       "      <td>Trip Completed</td>\n",
       "      <td>2016-07-11 11:51:00</td>\n",
       "      <td>2016-07-11 13:00:00</td>\n",
       "      <td>11</td>\n",
       "      <td>Morning</td>\n",
       "      <td>Supply</td>\n",
       "      <td>11</td>\n",
       "      <td>7</td>\n",
       "      <td>2016</td>\n",
       "    </tr>\n",
       "    <tr>\n",
       "      <th>1</th>\n",
       "      <td>Airport</td>\n",
       "      <td>Trip Completed</td>\n",
       "      <td>2016-07-11 17:57:00</td>\n",
       "      <td>2016-07-11 18:47:00</td>\n",
       "      <td>17</td>\n",
       "      <td>Afternoon</td>\n",
       "      <td>Supply</td>\n",
       "      <td>11</td>\n",
       "      <td>7</td>\n",
       "      <td>2016</td>\n",
       "    </tr>\n",
       "    <tr>\n",
       "      <th>2</th>\n",
       "      <td>City</td>\n",
       "      <td>Trip Completed</td>\n",
       "      <td>2016-07-12 09:17:00</td>\n",
       "      <td>2016-07-12 09:58:00</td>\n",
       "      <td>9</td>\n",
       "      <td>Morning</td>\n",
       "      <td>Supply</td>\n",
       "      <td>12</td>\n",
       "      <td>7</td>\n",
       "      <td>2016</td>\n",
       "    </tr>\n",
       "    <tr>\n",
       "      <th>3</th>\n",
       "      <td>Airport</td>\n",
       "      <td>Trip Completed</td>\n",
       "      <td>2016-07-12 21:08:00</td>\n",
       "      <td>2016-07-12 22:03:00</td>\n",
       "      <td>21</td>\n",
       "      <td>Night</td>\n",
       "      <td>Supply</td>\n",
       "      <td>12</td>\n",
       "      <td>7</td>\n",
       "      <td>2016</td>\n",
       "    </tr>\n",
       "    <tr>\n",
       "      <th>4</th>\n",
       "      <td>City</td>\n",
       "      <td>Trip Completed</td>\n",
       "      <td>2016-07-13 08:33:16</td>\n",
       "      <td>2016-07-13 09:25:47</td>\n",
       "      <td>8</td>\n",
       "      <td>Morning</td>\n",
       "      <td>Supply</td>\n",
       "      <td>13</td>\n",
       "      <td>7</td>\n",
       "      <td>2016</td>\n",
       "    </tr>\n",
       "  </tbody>\n",
       "</table>\n",
       "</div>"
      ],
      "text/plain": [
       "  Pickup point          Status   Request timestamp      Drop timestamp  \\\n",
       "0      Airport  Trip Completed 2016-07-11 11:51:00 2016-07-11 13:00:00   \n",
       "1      Airport  Trip Completed 2016-07-11 17:57:00 2016-07-11 18:47:00   \n",
       "2         City  Trip Completed 2016-07-12 09:17:00 2016-07-12 09:58:00   \n",
       "3      Airport  Trip Completed 2016-07-12 21:08:00 2016-07-12 22:03:00   \n",
       "4         City  Trip Completed 2016-07-13 08:33:16 2016-07-13 09:25:47   \n",
       "\n",
       "   req_hour req_timeslot supply_demand  req_day  req_month  req_year  \n",
       "0        11      Morning        Supply       11          7      2016  \n",
       "1        17    Afternoon        Supply       11          7      2016  \n",
       "2         9      Morning        Supply       12          7      2016  \n",
       "3        21        Night        Supply       12          7      2016  \n",
       "4         8      Morning        Supply       13          7      2016  "
      ]
     },
     "execution_count": 222,
     "metadata": {},
     "output_type": "execute_result"
    }
   ],
   "source": [
    "uber.head()"
   ]
  },
  {
   "cell_type": "code",
   "execution_count": 231,
   "id": "d3c4b109",
   "metadata": {},
   "outputs": [],
   "source": [
    "def hr_func(ts):\n",
    "    return ts.min\n",
    "\n",
    "uber['req_min'] = uber['Request timestamp'].apply(hr_func)\n"
   ]
  },
  {
   "cell_type": "code",
   "execution_count": 232,
   "id": "c925fe7a",
   "metadata": {},
   "outputs": [
    {
     "data": {
      "text/html": [
       "<div>\n",
       "<style scoped>\n",
       "    .dataframe tbody tr th:only-of-type {\n",
       "        vertical-align: middle;\n",
       "    }\n",
       "\n",
       "    .dataframe tbody tr th {\n",
       "        vertical-align: top;\n",
       "    }\n",
       "\n",
       "    .dataframe thead th {\n",
       "        text-align: right;\n",
       "    }\n",
       "</style>\n",
       "<table border=\"1\" class=\"dataframe\">\n",
       "  <thead>\n",
       "    <tr style=\"text-align: right;\">\n",
       "      <th></th>\n",
       "      <th>Pickup point</th>\n",
       "      <th>Status</th>\n",
       "      <th>Request timestamp</th>\n",
       "      <th>Drop timestamp</th>\n",
       "      <th>req_hour</th>\n",
       "      <th>req_timeslot</th>\n",
       "      <th>supply_demand</th>\n",
       "      <th>req_day</th>\n",
       "      <th>req_month</th>\n",
       "      <th>req_year</th>\n",
       "      <th>req_min</th>\n",
       "      <th>weekdays</th>\n",
       "    </tr>\n",
       "  </thead>\n",
       "  <tbody>\n",
       "    <tr>\n",
       "      <th>0</th>\n",
       "      <td>Airport</td>\n",
       "      <td>Trip Completed</td>\n",
       "      <td>2016-07-11 11:51:00</td>\n",
       "      <td>2016-07-11 13:00:00</td>\n",
       "      <td>11</td>\n",
       "      <td>Morning</td>\n",
       "      <td>Supply</td>\n",
       "      <td>11</td>\n",
       "      <td>7</td>\n",
       "      <td>2016</td>\n",
       "      <td>1677-09-21 00:12:43.145224193</td>\n",
       "      <td>0</td>\n",
       "    </tr>\n",
       "    <tr>\n",
       "      <th>1</th>\n",
       "      <td>Airport</td>\n",
       "      <td>Trip Completed</td>\n",
       "      <td>2016-07-11 17:57:00</td>\n",
       "      <td>2016-07-11 18:47:00</td>\n",
       "      <td>17</td>\n",
       "      <td>Afternoon</td>\n",
       "      <td>Supply</td>\n",
       "      <td>11</td>\n",
       "      <td>7</td>\n",
       "      <td>2016</td>\n",
       "      <td>1677-09-21 00:12:43.145224193</td>\n",
       "      <td>0</td>\n",
       "    </tr>\n",
       "    <tr>\n",
       "      <th>2</th>\n",
       "      <td>City</td>\n",
       "      <td>Trip Completed</td>\n",
       "      <td>2016-07-12 09:17:00</td>\n",
       "      <td>2016-07-12 09:58:00</td>\n",
       "      <td>9</td>\n",
       "      <td>Morning</td>\n",
       "      <td>Supply</td>\n",
       "      <td>12</td>\n",
       "      <td>7</td>\n",
       "      <td>2016</td>\n",
       "      <td>1677-09-21 00:12:43.145224193</td>\n",
       "      <td>1</td>\n",
       "    </tr>\n",
       "    <tr>\n",
       "      <th>3</th>\n",
       "      <td>Airport</td>\n",
       "      <td>Trip Completed</td>\n",
       "      <td>2016-07-12 21:08:00</td>\n",
       "      <td>2016-07-12 22:03:00</td>\n",
       "      <td>21</td>\n",
       "      <td>Night</td>\n",
       "      <td>Supply</td>\n",
       "      <td>12</td>\n",
       "      <td>7</td>\n",
       "      <td>2016</td>\n",
       "      <td>1677-09-21 00:12:43.145224193</td>\n",
       "      <td>1</td>\n",
       "    </tr>\n",
       "    <tr>\n",
       "      <th>4</th>\n",
       "      <td>City</td>\n",
       "      <td>Trip Completed</td>\n",
       "      <td>2016-07-13 08:33:16</td>\n",
       "      <td>2016-07-13 09:25:47</td>\n",
       "      <td>8</td>\n",
       "      <td>Morning</td>\n",
       "      <td>Supply</td>\n",
       "      <td>13</td>\n",
       "      <td>7</td>\n",
       "      <td>2016</td>\n",
       "      <td>1677-09-21 00:12:43.145224193</td>\n",
       "      <td>2</td>\n",
       "    </tr>\n",
       "  </tbody>\n",
       "</table>\n",
       "</div>"
      ],
      "text/plain": [
       "  Pickup point          Status   Request timestamp      Drop timestamp  \\\n",
       "0      Airport  Trip Completed 2016-07-11 11:51:00 2016-07-11 13:00:00   \n",
       "1      Airport  Trip Completed 2016-07-11 17:57:00 2016-07-11 18:47:00   \n",
       "2         City  Trip Completed 2016-07-12 09:17:00 2016-07-12 09:58:00   \n",
       "3      Airport  Trip Completed 2016-07-12 21:08:00 2016-07-12 22:03:00   \n",
       "4         City  Trip Completed 2016-07-13 08:33:16 2016-07-13 09:25:47   \n",
       "\n",
       "   req_hour req_timeslot supply_demand  req_day  req_month  req_year  \\\n",
       "0        11      Morning        Supply       11          7      2016   \n",
       "1        17    Afternoon        Supply       11          7      2016   \n",
       "2         9      Morning        Supply       12          7      2016   \n",
       "3        21        Night        Supply       12          7      2016   \n",
       "4         8      Morning        Supply       13          7      2016   \n",
       "\n",
       "                        req_min  weekdays  \n",
       "0 1677-09-21 00:12:43.145224193         0  \n",
       "1 1677-09-21 00:12:43.145224193         0  \n",
       "2 1677-09-21 00:12:43.145224193         1  \n",
       "3 1677-09-21 00:12:43.145224193         1  \n",
       "4 1677-09-21 00:12:43.145224193         2  "
      ]
     },
     "execution_count": 232,
     "metadata": {},
     "output_type": "execute_result"
    }
   ],
   "source": [
    "uber.head()"
   ]
  },
  {
   "cell_type": "code",
   "execution_count": 225,
   "id": "bc002dc4",
   "metadata": {},
   "outputs": [],
   "source": [
    "# uber['Day'] = uber['Request timestamp'].apply(lambda x: datetime.datetime.strftime(x, '%A'))"
   ]
  },
  {
   "cell_type": "code",
   "execution_count": 239,
   "id": "01daff18",
   "metadata": {},
   "outputs": [],
   "source": [
    "def hr_func(ts):\n",
    "    return ts.strftime('%A')\n",
    "\n",
    "uber['weekdays'] = uber['Request timestamp'].apply(hr_func)\n"
   ]
  },
  {
   "cell_type": "code",
   "execution_count": 240,
   "id": "aed36c4c",
   "metadata": {},
   "outputs": [
    {
     "data": {
      "text/html": [
       "<div>\n",
       "<style scoped>\n",
       "    .dataframe tbody tr th:only-of-type {\n",
       "        vertical-align: middle;\n",
       "    }\n",
       "\n",
       "    .dataframe tbody tr th {\n",
       "        vertical-align: top;\n",
       "    }\n",
       "\n",
       "    .dataframe thead th {\n",
       "        text-align: right;\n",
       "    }\n",
       "</style>\n",
       "<table border=\"1\" class=\"dataframe\">\n",
       "  <thead>\n",
       "    <tr style=\"text-align: right;\">\n",
       "      <th></th>\n",
       "      <th>Pickup point</th>\n",
       "      <th>Status</th>\n",
       "      <th>Request timestamp</th>\n",
       "      <th>Drop timestamp</th>\n",
       "      <th>req_hour</th>\n",
       "      <th>req_timeslot</th>\n",
       "      <th>supply_demand</th>\n",
       "      <th>req_day</th>\n",
       "      <th>req_month</th>\n",
       "      <th>req_year</th>\n",
       "      <th>req_min</th>\n",
       "      <th>weekdays</th>\n",
       "    </tr>\n",
       "  </thead>\n",
       "  <tbody>\n",
       "    <tr>\n",
       "      <th>0</th>\n",
       "      <td>Airport</td>\n",
       "      <td>Trip Completed</td>\n",
       "      <td>2016-07-11 11:51:00</td>\n",
       "      <td>2016-07-11 13:00:00</td>\n",
       "      <td>11</td>\n",
       "      <td>Morning</td>\n",
       "      <td>Supply</td>\n",
       "      <td>11</td>\n",
       "      <td>7</td>\n",
       "      <td>2016</td>\n",
       "      <td>1677-09-21 00:12:43.145224193</td>\n",
       "      <td>Monday</td>\n",
       "    </tr>\n",
       "    <tr>\n",
       "      <th>1</th>\n",
       "      <td>Airport</td>\n",
       "      <td>Trip Completed</td>\n",
       "      <td>2016-07-11 17:57:00</td>\n",
       "      <td>2016-07-11 18:47:00</td>\n",
       "      <td>17</td>\n",
       "      <td>Afternoon</td>\n",
       "      <td>Supply</td>\n",
       "      <td>11</td>\n",
       "      <td>7</td>\n",
       "      <td>2016</td>\n",
       "      <td>1677-09-21 00:12:43.145224193</td>\n",
       "      <td>Monday</td>\n",
       "    </tr>\n",
       "    <tr>\n",
       "      <th>2</th>\n",
       "      <td>City</td>\n",
       "      <td>Trip Completed</td>\n",
       "      <td>2016-07-12 09:17:00</td>\n",
       "      <td>2016-07-12 09:58:00</td>\n",
       "      <td>9</td>\n",
       "      <td>Morning</td>\n",
       "      <td>Supply</td>\n",
       "      <td>12</td>\n",
       "      <td>7</td>\n",
       "      <td>2016</td>\n",
       "      <td>1677-09-21 00:12:43.145224193</td>\n",
       "      <td>Tuesday</td>\n",
       "    </tr>\n",
       "    <tr>\n",
       "      <th>3</th>\n",
       "      <td>Airport</td>\n",
       "      <td>Trip Completed</td>\n",
       "      <td>2016-07-12 21:08:00</td>\n",
       "      <td>2016-07-12 22:03:00</td>\n",
       "      <td>21</td>\n",
       "      <td>Night</td>\n",
       "      <td>Supply</td>\n",
       "      <td>12</td>\n",
       "      <td>7</td>\n",
       "      <td>2016</td>\n",
       "      <td>1677-09-21 00:12:43.145224193</td>\n",
       "      <td>Tuesday</td>\n",
       "    </tr>\n",
       "    <tr>\n",
       "      <th>4</th>\n",
       "      <td>City</td>\n",
       "      <td>Trip Completed</td>\n",
       "      <td>2016-07-13 08:33:16</td>\n",
       "      <td>2016-07-13 09:25:47</td>\n",
       "      <td>8</td>\n",
       "      <td>Morning</td>\n",
       "      <td>Supply</td>\n",
       "      <td>13</td>\n",
       "      <td>7</td>\n",
       "      <td>2016</td>\n",
       "      <td>1677-09-21 00:12:43.145224193</td>\n",
       "      <td>Wednesday</td>\n",
       "    </tr>\n",
       "  </tbody>\n",
       "</table>\n",
       "</div>"
      ],
      "text/plain": [
       "  Pickup point          Status   Request timestamp      Drop timestamp  \\\n",
       "0      Airport  Trip Completed 2016-07-11 11:51:00 2016-07-11 13:00:00   \n",
       "1      Airport  Trip Completed 2016-07-11 17:57:00 2016-07-11 18:47:00   \n",
       "2         City  Trip Completed 2016-07-12 09:17:00 2016-07-12 09:58:00   \n",
       "3      Airport  Trip Completed 2016-07-12 21:08:00 2016-07-12 22:03:00   \n",
       "4         City  Trip Completed 2016-07-13 08:33:16 2016-07-13 09:25:47   \n",
       "\n",
       "   req_hour req_timeslot supply_demand  req_day  req_month  req_year  \\\n",
       "0        11      Morning        Supply       11          7      2016   \n",
       "1        17    Afternoon        Supply       11          7      2016   \n",
       "2         9      Morning        Supply       12          7      2016   \n",
       "3        21        Night        Supply       12          7      2016   \n",
       "4         8      Morning        Supply       13          7      2016   \n",
       "\n",
       "                        req_min   weekdays  \n",
       "0 1677-09-21 00:12:43.145224193     Monday  \n",
       "1 1677-09-21 00:12:43.145224193     Monday  \n",
       "2 1677-09-21 00:12:43.145224193    Tuesday  \n",
       "3 1677-09-21 00:12:43.145224193    Tuesday  \n",
       "4 1677-09-21 00:12:43.145224193  Wednesday  "
      ]
     },
     "execution_count": 240,
     "metadata": {},
     "output_type": "execute_result"
    }
   ],
   "source": [
    "uber.head()"
   ]
  },
  {
   "cell_type": "code",
   "execution_count": 235,
   "id": "89fb6cbe",
   "metadata": {},
   "outputs": [
    {
     "name": "stdout",
     "output_type": "stream",
     "text": [
      "2024-07-11 18:16:01\n"
     ]
    }
   ],
   "source": [
    "from datetime import datetime\n",
    "now = datetime.now()\n",
    "formatted = now.strftime(\"%Y-%m-%d %H:%M:%S\")\n",
    "print(formatted)"
   ]
  },
  {
   "cell_type": "code",
   "execution_count": null,
   "id": "773bc38b",
   "metadata": {},
   "outputs": [],
   "source": []
  }
 ],
 "metadata": {
  "kernelspec": {
   "display_name": "Python 3 (ipykernel)",
   "language": "python",
   "name": "python3"
  },
  "language_info": {
   "codemirror_mode": {
    "name": "ipython",
    "version": 3
   },
   "file_extension": ".py",
   "mimetype": "text/x-python",
   "name": "python",
   "nbconvert_exporter": "python",
   "pygments_lexer": "ipython3",
   "version": "3.11.5"
  }
 },
 "nbformat": 4,
 "nbformat_minor": 5
}
